{
 "cells": [
  {
   "cell_type": "code",
   "execution_count": null,
   "id": "4ef5513a",
   "metadata": {},
   "outputs": [],
   "source": [
    "import glob\n",
    "import os\n",
    "import shutil\n",
    "import random\n",
    "from PIL import Image\n",
    "import tensorflow as tf\n",
    "from tensorflow import keras\n",
    "import keras.utils as image\n",
    "from tensorflow.keras import layers"
   ]
  },
  {
   "cell_type": "code",
   "execution_count": 2,
   "id": "dac06971",
   "metadata": {},
   "outputs": [
    {
     "name": "stdout",
     "output_type": "stream",
     "text": [
      "Data Source import completo.\n",
      "             Images Labels\n",
      "0         Cat\\0.jpg    Cat\n",
      "1         Cat\\1.jpg    Cat\n",
      "2        Cat\\10.jpg    Cat\n",
      "3       Cat\\100.jpg    Cat\n",
      "4      Cat\\1000.jpg    Cat\n",
      "...             ...    ...\n",
      "24993  Dog\\9995.jpg    Dog\n",
      "24994  Dog\\9996.jpg    Dog\n",
      "24995  Dog\\9997.jpg    Dog\n",
      "24996  Dog\\9998.jpg    Dog\n",
      "24997  Dog\\9999.jpg    Dog\n",
      "\n",
      "[24998 rows x 2 columns]\n"
     ]
    }
   ],
   "source": [
    "import kagglehub\n",
    "import pandas as pd\n",
    "import os\n",
    "\n",
    "dataset_path = kagglehub.dataset_download('bhavikjikadara/dog-and-cat-classification-dataset')\n",
    "print('Data Source import completo.')\n",
    "\n",
    "directory = os.path.join(dataset_path, 'PetImages')\n",
    "\n",
    "images = []\n",
    "labels = []\n",
    "\n",
    "try:\n",
    "  for foldr in os.listdir(directory):\n",
    "    for filee in os.listdir(os.path.join(directory, foldr)):\n",
    "      images.append(os.path.join(foldr, filee))\n",
    "      labels.append(foldr)\n",
    "        \n",
    "except Exception as e:\n",
    "  print(f'Error: {e}')\n",
    "\n",
    "all_df = pd.DataFrame({\n",
    "    'Images': images,\n",
    "    'Labels': labels\n",
    "    })\n",
    "\n",
    "print(all_df)"
   ]
  },
  {
   "cell_type": "code",
   "execution_count": 3,
   "id": "c434dc7e",
   "metadata": {},
   "outputs": [
    {
     "name": "stdout",
     "output_type": "stream",
     "text": [
      "Preparando o dataset de treino...\n",
      "Found 19998 validated image filenames belonging to 2 classes.\n",
      "Preparando o dataset de teste...\n",
      "Found 5000 validated image filenames belonging to 2 classes.\n"
     ]
    }
   ],
   "source": [
    "from sklearn.model_selection import train_test_split\n",
    "from tensorflow.keras.preprocessing.image import ImageDataGenerator\n",
    "\n",
    "train_df, test_df = train_test_split(all_df, test_size=0.2, random_state=42, stratify=all_df['Labels'])\n",
    "\n",
    "print(\"Preparando o dataset de treino...\")\n",
    "trainimgen = ImageDataGenerator( \n",
    "    rotation_range=20,\n",
    "    zoom_range=0.2,\n",
    "    horizontal_flip=True,\n",
    "    shear_range=0.2\n",
    "    )\n",
    "\n",
    "train_data = trainimgen.flow_from_dataframe(\n",
    "    dataframe=train_df,\n",
    "    directory=directory,\n",
    "    x_col='Images',\n",
    "    y_col='Labels',\n",
    "    target_size=(224,224),\n",
    "    color_mode='rgb',\n",
    "    class_mode='binary',\n",
    "    batch_size=16,\n",
    ")\n",
    "\n",
    "print(\"Preparando o dataset de teste...\")\n",
    "testimgen = ImageDataGenerator()\n",
    "\n",
    "test_data = testimgen.flow_from_dataframe(\n",
    "    dataframe=test_df,\n",
    "    directory=directory,\n",
    "    x_col='Images',\n",
    "    y_col='Labels',\n",
    "    target_size=(224,224),\n",
    "    color_mode='rgb',\n",
    "    class_mode='binary',\n",
    "    batch_size=16,\n",
    "    shuffle=False\n",
    ")\n"
   ]
  },
  {
   "cell_type": "code",
   "execution_count": 4,
   "id": "8db2af65",
   "metadata": {},
   "outputs": [
    {
     "data": {
      "text/html": [
       "<pre style=\"white-space:pre;overflow-x:auto;line-height:normal;font-family:Menlo,'DejaVu Sans Mono',consolas,'Courier New',monospace\"><span style=\"font-weight: bold\">Model: \"sequential\"</span>\n",
       "</pre>\n"
      ],
      "text/plain": [
       "\u001b[1mModel: \"sequential\"\u001b[0m\n"
      ]
     },
     "metadata": {},
     "output_type": "display_data"
    },
    {
     "data": {
      "text/html": [
       "<pre style=\"white-space:pre;overflow-x:auto;line-height:normal;font-family:Menlo,'DejaVu Sans Mono',consolas,'Courier New',monospace\">┏━━━━━━━━━━━━━━━━━━━━━━━━━━━━━━━━━┳━━━━━━━━━━━━━━━━━━━━━━━━┳━━━━━━━━━━━━━━━┓\n",
       "┃<span style=\"font-weight: bold\"> Layer (type)                    </span>┃<span style=\"font-weight: bold\"> Output Shape           </span>┃<span style=\"font-weight: bold\">       Param # </span>┃\n",
       "┡━━━━━━━━━━━━━━━━━━━━━━━━━━━━━━━━━╇━━━━━━━━━━━━━━━━━━━━━━━━╇━━━━━━━━━━━━━━━┩\n",
       "│ random_flip (<span style=\"color: #0087ff; text-decoration-color: #0087ff\">RandomFlip</span>)        │ (<span style=\"color: #00d7ff; text-decoration-color: #00d7ff\">None</span>, <span style=\"color: #00af00; text-decoration-color: #00af00\">224</span>, <span style=\"color: #00af00; text-decoration-color: #00af00\">224</span>, <span style=\"color: #00af00; text-decoration-color: #00af00\">3</span>)    │             <span style=\"color: #00af00; text-decoration-color: #00af00\">0</span> │\n",
       "├─────────────────────────────────┼────────────────────────┼───────────────┤\n",
       "│ random_rotation                 │ (<span style=\"color: #00d7ff; text-decoration-color: #00d7ff\">None</span>, <span style=\"color: #00af00; text-decoration-color: #00af00\">224</span>, <span style=\"color: #00af00; text-decoration-color: #00af00\">224</span>, <span style=\"color: #00af00; text-decoration-color: #00af00\">3</span>)    │             <span style=\"color: #00af00; text-decoration-color: #00af00\">0</span> │\n",
       "│ (<span style=\"color: #0087ff; text-decoration-color: #0087ff\">RandomRotation</span>)                │                        │               │\n",
       "├─────────────────────────────────┼────────────────────────┼───────────────┤\n",
       "│ rescaling (<span style=\"color: #0087ff; text-decoration-color: #0087ff\">Rescaling</span>)           │ (<span style=\"color: #00d7ff; text-decoration-color: #00d7ff\">None</span>, <span style=\"color: #00af00; text-decoration-color: #00af00\">224</span>, <span style=\"color: #00af00; text-decoration-color: #00af00\">224</span>, <span style=\"color: #00af00; text-decoration-color: #00af00\">3</span>)    │             <span style=\"color: #00af00; text-decoration-color: #00af00\">0</span> │\n",
       "├─────────────────────────────────┼────────────────────────┼───────────────┤\n",
       "│ conv2d (<span style=\"color: #0087ff; text-decoration-color: #0087ff\">Conv2D</span>)                 │ (<span style=\"color: #00d7ff; text-decoration-color: #00d7ff\">None</span>, <span style=\"color: #00af00; text-decoration-color: #00af00\">224</span>, <span style=\"color: #00af00; text-decoration-color: #00af00\">224</span>, <span style=\"color: #00af00; text-decoration-color: #00af00\">16</span>)   │           <span style=\"color: #00af00; text-decoration-color: #00af00\">448</span> │\n",
       "├─────────────────────────────────┼────────────────────────┼───────────────┤\n",
       "│ max_pooling2d (<span style=\"color: #0087ff; text-decoration-color: #0087ff\">MaxPooling2D</span>)    │ (<span style=\"color: #00d7ff; text-decoration-color: #00d7ff\">None</span>, <span style=\"color: #00af00; text-decoration-color: #00af00\">112</span>, <span style=\"color: #00af00; text-decoration-color: #00af00\">112</span>, <span style=\"color: #00af00; text-decoration-color: #00af00\">16</span>)   │             <span style=\"color: #00af00; text-decoration-color: #00af00\">0</span> │\n",
       "├─────────────────────────────────┼────────────────────────┼───────────────┤\n",
       "│ conv2d_1 (<span style=\"color: #0087ff; text-decoration-color: #0087ff\">Conv2D</span>)               │ (<span style=\"color: #00d7ff; text-decoration-color: #00d7ff\">None</span>, <span style=\"color: #00af00; text-decoration-color: #00af00\">112</span>, <span style=\"color: #00af00; text-decoration-color: #00af00\">112</span>, <span style=\"color: #00af00; text-decoration-color: #00af00\">32</span>)   │         <span style=\"color: #00af00; text-decoration-color: #00af00\">4,640</span> │\n",
       "├─────────────────────────────────┼────────────────────────┼───────────────┤\n",
       "│ max_pooling2d_1 (<span style=\"color: #0087ff; text-decoration-color: #0087ff\">MaxPooling2D</span>)  │ (<span style=\"color: #00d7ff; text-decoration-color: #00d7ff\">None</span>, <span style=\"color: #00af00; text-decoration-color: #00af00\">56</span>, <span style=\"color: #00af00; text-decoration-color: #00af00\">56</span>, <span style=\"color: #00af00; text-decoration-color: #00af00\">32</span>)     │             <span style=\"color: #00af00; text-decoration-color: #00af00\">0</span> │\n",
       "├─────────────────────────────────┼────────────────────────┼───────────────┤\n",
       "│ conv2d_2 (<span style=\"color: #0087ff; text-decoration-color: #0087ff\">Conv2D</span>)               │ (<span style=\"color: #00d7ff; text-decoration-color: #00d7ff\">None</span>, <span style=\"color: #00af00; text-decoration-color: #00af00\">56</span>, <span style=\"color: #00af00; text-decoration-color: #00af00\">56</span>, <span style=\"color: #00af00; text-decoration-color: #00af00\">64</span>)     │        <span style=\"color: #00af00; text-decoration-color: #00af00\">18,496</span> │\n",
       "├─────────────────────────────────┼────────────────────────┼───────────────┤\n",
       "│ max_pooling2d_2 (<span style=\"color: #0087ff; text-decoration-color: #0087ff\">MaxPooling2D</span>)  │ (<span style=\"color: #00d7ff; text-decoration-color: #00d7ff\">None</span>, <span style=\"color: #00af00; text-decoration-color: #00af00\">28</span>, <span style=\"color: #00af00; text-decoration-color: #00af00\">28</span>, <span style=\"color: #00af00; text-decoration-color: #00af00\">64</span>)     │             <span style=\"color: #00af00; text-decoration-color: #00af00\">0</span> │\n",
       "├─────────────────────────────────┼────────────────────────┼───────────────┤\n",
       "│ flatten (<span style=\"color: #0087ff; text-decoration-color: #0087ff\">Flatten</span>)               │ (<span style=\"color: #00d7ff; text-decoration-color: #00d7ff\">None</span>, <span style=\"color: #00af00; text-decoration-color: #00af00\">50176</span>)          │             <span style=\"color: #00af00; text-decoration-color: #00af00\">0</span> │\n",
       "├─────────────────────────────────┼────────────────────────┼───────────────┤\n",
       "│ dense (<span style=\"color: #0087ff; text-decoration-color: #0087ff\">Dense</span>)                   │ (<span style=\"color: #00d7ff; text-decoration-color: #00d7ff\">None</span>, <span style=\"color: #00af00; text-decoration-color: #00af00\">512</span>)            │    <span style=\"color: #00af00; text-decoration-color: #00af00\">25,690,624</span> │\n",
       "├─────────────────────────────────┼────────────────────────┼───────────────┤\n",
       "│ dropout (<span style=\"color: #0087ff; text-decoration-color: #0087ff\">Dropout</span>)               │ (<span style=\"color: #00d7ff; text-decoration-color: #00d7ff\">None</span>, <span style=\"color: #00af00; text-decoration-color: #00af00\">512</span>)            │             <span style=\"color: #00af00; text-decoration-color: #00af00\">0</span> │\n",
       "├─────────────────────────────────┼────────────────────────┼───────────────┤\n",
       "│ dense_1 (<span style=\"color: #0087ff; text-decoration-color: #0087ff\">Dense</span>)                 │ (<span style=\"color: #00d7ff; text-decoration-color: #00d7ff\">None</span>, <span style=\"color: #00af00; text-decoration-color: #00af00\">1</span>)              │           <span style=\"color: #00af00; text-decoration-color: #00af00\">513</span> │\n",
       "└─────────────────────────────────┴────────────────────────┴───────────────┘\n",
       "</pre>\n"
      ],
      "text/plain": [
       "┏━━━━━━━━━━━━━━━━━━━━━━━━━━━━━━━━━┳━━━━━━━━━━━━━━━━━━━━━━━━┳━━━━━━━━━━━━━━━┓\n",
       "┃\u001b[1m \u001b[0m\u001b[1mLayer (type)                   \u001b[0m\u001b[1m \u001b[0m┃\u001b[1m \u001b[0m\u001b[1mOutput Shape          \u001b[0m\u001b[1m \u001b[0m┃\u001b[1m \u001b[0m\u001b[1m      Param #\u001b[0m\u001b[1m \u001b[0m┃\n",
       "┡━━━━━━━━━━━━━━━━━━━━━━━━━━━━━━━━━╇━━━━━━━━━━━━━━━━━━━━━━━━╇━━━━━━━━━━━━━━━┩\n",
       "│ random_flip (\u001b[38;5;33mRandomFlip\u001b[0m)        │ (\u001b[38;5;45mNone\u001b[0m, \u001b[38;5;34m224\u001b[0m, \u001b[38;5;34m224\u001b[0m, \u001b[38;5;34m3\u001b[0m)    │             \u001b[38;5;34m0\u001b[0m │\n",
       "├─────────────────────────────────┼────────────────────────┼───────────────┤\n",
       "│ random_rotation                 │ (\u001b[38;5;45mNone\u001b[0m, \u001b[38;5;34m224\u001b[0m, \u001b[38;5;34m224\u001b[0m, \u001b[38;5;34m3\u001b[0m)    │             \u001b[38;5;34m0\u001b[0m │\n",
       "│ (\u001b[38;5;33mRandomRotation\u001b[0m)                │                        │               │\n",
       "├─────────────────────────────────┼────────────────────────┼───────────────┤\n",
       "│ rescaling (\u001b[38;5;33mRescaling\u001b[0m)           │ (\u001b[38;5;45mNone\u001b[0m, \u001b[38;5;34m224\u001b[0m, \u001b[38;5;34m224\u001b[0m, \u001b[38;5;34m3\u001b[0m)    │             \u001b[38;5;34m0\u001b[0m │\n",
       "├─────────────────────────────────┼────────────────────────┼───────────────┤\n",
       "│ conv2d (\u001b[38;5;33mConv2D\u001b[0m)                 │ (\u001b[38;5;45mNone\u001b[0m, \u001b[38;5;34m224\u001b[0m, \u001b[38;5;34m224\u001b[0m, \u001b[38;5;34m16\u001b[0m)   │           \u001b[38;5;34m448\u001b[0m │\n",
       "├─────────────────────────────────┼────────────────────────┼───────────────┤\n",
       "│ max_pooling2d (\u001b[38;5;33mMaxPooling2D\u001b[0m)    │ (\u001b[38;5;45mNone\u001b[0m, \u001b[38;5;34m112\u001b[0m, \u001b[38;5;34m112\u001b[0m, \u001b[38;5;34m16\u001b[0m)   │             \u001b[38;5;34m0\u001b[0m │\n",
       "├─────────────────────────────────┼────────────────────────┼───────────────┤\n",
       "│ conv2d_1 (\u001b[38;5;33mConv2D\u001b[0m)               │ (\u001b[38;5;45mNone\u001b[0m, \u001b[38;5;34m112\u001b[0m, \u001b[38;5;34m112\u001b[0m, \u001b[38;5;34m32\u001b[0m)   │         \u001b[38;5;34m4,640\u001b[0m │\n",
       "├─────────────────────────────────┼────────────────────────┼───────────────┤\n",
       "│ max_pooling2d_1 (\u001b[38;5;33mMaxPooling2D\u001b[0m)  │ (\u001b[38;5;45mNone\u001b[0m, \u001b[38;5;34m56\u001b[0m, \u001b[38;5;34m56\u001b[0m, \u001b[38;5;34m32\u001b[0m)     │             \u001b[38;5;34m0\u001b[0m │\n",
       "├─────────────────────────────────┼────────────────────────┼───────────────┤\n",
       "│ conv2d_2 (\u001b[38;5;33mConv2D\u001b[0m)               │ (\u001b[38;5;45mNone\u001b[0m, \u001b[38;5;34m56\u001b[0m, \u001b[38;5;34m56\u001b[0m, \u001b[38;5;34m64\u001b[0m)     │        \u001b[38;5;34m18,496\u001b[0m │\n",
       "├─────────────────────────────────┼────────────────────────┼───────────────┤\n",
       "│ max_pooling2d_2 (\u001b[38;5;33mMaxPooling2D\u001b[0m)  │ (\u001b[38;5;45mNone\u001b[0m, \u001b[38;5;34m28\u001b[0m, \u001b[38;5;34m28\u001b[0m, \u001b[38;5;34m64\u001b[0m)     │             \u001b[38;5;34m0\u001b[0m │\n",
       "├─────────────────────────────────┼────────────────────────┼───────────────┤\n",
       "│ flatten (\u001b[38;5;33mFlatten\u001b[0m)               │ (\u001b[38;5;45mNone\u001b[0m, \u001b[38;5;34m50176\u001b[0m)          │             \u001b[38;5;34m0\u001b[0m │\n",
       "├─────────────────────────────────┼────────────────────────┼───────────────┤\n",
       "│ dense (\u001b[38;5;33mDense\u001b[0m)                   │ (\u001b[38;5;45mNone\u001b[0m, \u001b[38;5;34m512\u001b[0m)            │    \u001b[38;5;34m25,690,624\u001b[0m │\n",
       "├─────────────────────────────────┼────────────────────────┼───────────────┤\n",
       "│ dropout (\u001b[38;5;33mDropout\u001b[0m)               │ (\u001b[38;5;45mNone\u001b[0m, \u001b[38;5;34m512\u001b[0m)            │             \u001b[38;5;34m0\u001b[0m │\n",
       "├─────────────────────────────────┼────────────────────────┼───────────────┤\n",
       "│ dense_1 (\u001b[38;5;33mDense\u001b[0m)                 │ (\u001b[38;5;45mNone\u001b[0m, \u001b[38;5;34m1\u001b[0m)              │           \u001b[38;5;34m513\u001b[0m │\n",
       "└─────────────────────────────────┴────────────────────────┴───────────────┘\n"
      ]
     },
     "metadata": {},
     "output_type": "display_data"
    },
    {
     "data": {
      "text/html": [
       "<pre style=\"white-space:pre;overflow-x:auto;line-height:normal;font-family:Menlo,'DejaVu Sans Mono',consolas,'Courier New',monospace\"><span style=\"font-weight: bold\"> Total params: </span><span style=\"color: #00af00; text-decoration-color: #00af00\">25,714,721</span> (98.09 MB)\n",
       "</pre>\n"
      ],
      "text/plain": [
       "\u001b[1m Total params: \u001b[0m\u001b[38;5;34m25,714,721\u001b[0m (98.09 MB)\n"
      ]
     },
     "metadata": {},
     "output_type": "display_data"
    },
    {
     "data": {
      "text/html": [
       "<pre style=\"white-space:pre;overflow-x:auto;line-height:normal;font-family:Menlo,'DejaVu Sans Mono',consolas,'Courier New',monospace\"><span style=\"font-weight: bold\"> Trainable params: </span><span style=\"color: #00af00; text-decoration-color: #00af00\">25,714,721</span> (98.09 MB)\n",
       "</pre>\n"
      ],
      "text/plain": [
       "\u001b[1m Trainable params: \u001b[0m\u001b[38;5;34m25,714,721\u001b[0m (98.09 MB)\n"
      ]
     },
     "metadata": {},
     "output_type": "display_data"
    },
    {
     "data": {
      "text/html": [
       "<pre style=\"white-space:pre;overflow-x:auto;line-height:normal;font-family:Menlo,'DejaVu Sans Mono',consolas,'Courier New',monospace\"><span style=\"font-weight: bold\"> Non-trainable params: </span><span style=\"color: #00af00; text-decoration-color: #00af00\">0</span> (0.00 B)\n",
       "</pre>\n"
      ],
      "text/plain": [
       "\u001b[1m Non-trainable params: \u001b[0m\u001b[38;5;34m0\u001b[0m (0.00 B)\n"
      ]
     },
     "metadata": {},
     "output_type": "display_data"
    }
   ],
   "source": [
    "import tensorflow as tf\n",
    "from tensorflow import keras\n",
    "import keras.utils as image\n",
    "from tensorflow.keras import layers\n",
    "\n",
    "# Criando o modelo Sequencial\n",
    "model = keras.Sequential([\n",
    "    # Input Layer e Data Augmentation\n",
    "    layers.Input(shape=(224, 224, 3)),\n",
    "    layers.RandomFlip(\"horizontal\"),\n",
    "    layers.RandomRotation(0.1),\n",
    "\n",
    "    # Normalização dos pixels para a faixa [0, 1]\n",
    "    layers.Rescaling(1./255),\n",
    "\n",
    "    # Bloco Convolucional 1\n",
    "    layers.Conv2D(filters=16, kernel_size=(3, 3), activation='relu', padding='same'),\n",
    "    layers.MaxPooling2D(pool_size=(2, 2)),\n",
    "\n",
    "    # Bloco Convolucional 2\n",
    "    layers.Conv2D(filters=32, kernel_size=(3, 3), activation='relu', padding='same'),\n",
    "    layers.MaxPooling2D(pool_size=(2, 2)),\n",
    "\n",
    "    # Bloco Convolucional 3\n",
    "    layers.Conv2D(filters=64, kernel_size=(3, 3), activation='relu', padding='same'),\n",
    "    layers.MaxPooling2D(pool_size=(2, 2)),\n",
    "\n",
    "    # Achatamento (Flatten) para preparar para o classificador\n",
    "    layers.Flatten(),\n",
    "\n",
    "    # Camadas Densas (Classificador)\n",
    "    layers.Dense(units=512, activation='relu'),\n",
    "    layers.Dropout(0.5), # Adicionando Dropout para regularização\n",
    "    # Camada de Saída: 1 neurônio com ativação sigmoide para classificação binária\n",
    "    layers.Dense(units=1, activation='sigmoid')\n",
    "])\n",
    "\n",
    "# Visualizar a arquitetura do modelo\n",
    "model.summary()"
   ]
  },
  {
   "cell_type": "code",
   "execution_count": null,
   "id": "b5c65fdf",
   "metadata": {},
   "outputs": [],
   "source": [
    "from tensorflow.keras.optimizers import Adam\n",
    "\n",
    "model.compile(\n",
    "    optimizer=Adam(learning_rate=0.0001), # Otimizador Adam é uma excelente escolha padrão\n",
    "    loss=tf.keras.losses.BinaryCrossentropy(), # Loss para classificação binária com saída sigmoide\n",
    "    metrics=['accuracy'] # Métrica para acompanhar durante o treino\n",
    ")"
   ]
  },
  {
   "cell_type": "code",
   "execution_count": null,
   "id": "96f9bf4b",
   "metadata": {},
   "outputs": [
    {
     "name": "stdout",
     "output_type": "stream",
     "text": [
      "Epoch 1/15\n",
      "\u001b[1m 182/1250\u001b[0m \u001b[32m━━\u001b[0m\u001b[37m━━━━━━━━━━━━━━━━━━\u001b[0m \u001b[1m10:06\u001b[0m 567ms/step - accuracy: 0.5130 - loss: 0.8734"
     ]
    },
    {
     "name": "stderr",
     "output_type": "stream",
     "text": [
      "c:\\Users\\lucas\\OneDrive - Amelyer Company\\Documentos\\Projetos Python\\Dogs vs Cats\\.venv\\Lib\\site-packages\\PIL\\TiffImagePlugin.py:949: UserWarning: Truncated File Read\n",
      "  warnings.warn(str(msg))\n"
     ]
    },
    {
     "name": "stdout",
     "output_type": "stream",
     "text": [
      "\u001b[1m1250/1250\u001b[0m \u001b[32m━━━━━━━━━━━━━━━━━━━━\u001b[0m\u001b[37m\u001b[0m \u001b[1m756s\u001b[0m 602ms/step - accuracy: 0.6345 - loss: 0.6462 - val_accuracy: 0.7244 - val_loss: 0.5636\n",
      "Epoch 2/15\n",
      "\u001b[1m1250/1250\u001b[0m \u001b[32m━━━━━━━━━━━━━━━━━━━━\u001b[0m\u001b[37m\u001b[0m \u001b[1m733s\u001b[0m 586ms/step - accuracy: 0.7096 - loss: 0.5680 - val_accuracy: 0.7576 - val_loss: 0.5048\n",
      "Epoch 3/15\n",
      "\u001b[1m1250/1250\u001b[0m \u001b[32m━━━━━━━━━━━━━━━━━━━━\u001b[0m\u001b[37m\u001b[0m \u001b[1m745s\u001b[0m 596ms/step - accuracy: 0.7360 - loss: 0.5323 - val_accuracy: 0.7766 - val_loss: 0.4796\n",
      "Epoch 4/15\n",
      "\u001b[1m1250/1250\u001b[0m \u001b[32m━━━━━━━━━━━━━━━━━━━━\u001b[0m\u001b[37m\u001b[0m \u001b[1m728s\u001b[0m 582ms/step - accuracy: 0.7553 - loss: 0.5060 - val_accuracy: 0.7972 - val_loss: 0.4440\n",
      "Epoch 5/15\n",
      "\u001b[1m1250/1250\u001b[0m \u001b[32m━━━━━━━━━━━━━━━━━━━━\u001b[0m\u001b[37m\u001b[0m \u001b[1m671s\u001b[0m 536ms/step - accuracy: 0.7728 - loss: 0.4776 - val_accuracy: 0.7962 - val_loss: 0.4496\n",
      "Epoch 6/15\n",
      "\u001b[1m1250/1250\u001b[0m \u001b[32m━━━━━━━━━━━━━━━━━━━━\u001b[0m\u001b[37m\u001b[0m \u001b[1m546s\u001b[0m 437ms/step - accuracy: 0.7828 - loss: 0.4666 - val_accuracy: 0.8018 - val_loss: 0.4397\n",
      "Epoch 7/15\n",
      "\u001b[1m1250/1250\u001b[0m \u001b[32m━━━━━━━━━━━━━━━━━━━━\u001b[0m\u001b[37m\u001b[0m \u001b[1m546s\u001b[0m 437ms/step - accuracy: 0.7922 - loss: 0.4483 - val_accuracy: 0.8284 - val_loss: 0.3927\n",
      "Epoch 8/15\n",
      "\u001b[1m1250/1250\u001b[0m \u001b[32m━━━━━━━━━━━━━━━━━━━━\u001b[0m\u001b[37m\u001b[0m \u001b[1m549s\u001b[0m 439ms/step - accuracy: 0.7971 - loss: 0.4411 - val_accuracy: 0.8308 - val_loss: 0.3748\n",
      "Epoch 9/15\n",
      "\u001b[1m1250/1250\u001b[0m \u001b[32m━━━━━━━━━━━━━━━━━━━━\u001b[0m\u001b[37m\u001b[0m \u001b[1m554s\u001b[0m 443ms/step - accuracy: 0.8027 - loss: 0.4275 - val_accuracy: 0.8406 - val_loss: 0.3830\n",
      "Epoch 10/15\n",
      "\u001b[1m1250/1250\u001b[0m \u001b[32m━━━━━━━━━━━━━━━━━━━━\u001b[0m\u001b[37m\u001b[0m \u001b[1m550s\u001b[0m 440ms/step - accuracy: 0.8077 - loss: 0.4235 - val_accuracy: 0.8344 - val_loss: 0.3825\n",
      "Epoch 11/15\n",
      "\u001b[1m1250/1250\u001b[0m \u001b[32m━━━━━━━━━━━━━━━━━━━━\u001b[0m\u001b[37m\u001b[0m \u001b[1m561s\u001b[0m 449ms/step - accuracy: 0.8169 - loss: 0.4108 - val_accuracy: 0.8394 - val_loss: 0.3695\n",
      "Epoch 12/15\n",
      "\u001b[1m1250/1250\u001b[0m \u001b[32m━━━━━━━━━━━━━━━━━━━━\u001b[0m\u001b[37m\u001b[0m \u001b[1m543s\u001b[0m 434ms/step - accuracy: 0.8231 - loss: 0.3986 - val_accuracy: 0.8512 - val_loss: 0.3506\n",
      "Epoch 13/15\n",
      "\u001b[1m1250/1250\u001b[0m \u001b[32m━━━━━━━━━━━━━━━━━━━━\u001b[0m\u001b[37m\u001b[0m \u001b[1m648s\u001b[0m 518ms/step - accuracy: 0.8262 - loss: 0.3940 - val_accuracy: 0.8404 - val_loss: 0.3682\n",
      "Epoch 14/15\n",
      "\u001b[1m1250/1250\u001b[0m \u001b[32m━━━━━━━━━━━━━━━━━━━━\u001b[0m\u001b[37m\u001b[0m \u001b[1m589s\u001b[0m 471ms/step - accuracy: 0.8284 - loss: 0.3869 - val_accuracy: 0.8526 - val_loss: 0.3431\n",
      "Epoch 15/15\n",
      "\u001b[1m1250/1250\u001b[0m \u001b[32m━━━━━━━━━━━━━━━━━━━━\u001b[0m\u001b[37m\u001b[0m \u001b[1m576s\u001b[0m 461ms/step - accuracy: 0.8324 - loss: 0.3805 - val_accuracy: 0.8468 - val_loss: 0.3587\n"
     ]
    }
   ],
   "source": [
    "import tensorflow.keras.callbacks as cb\n",
    "\n",
    "callbacky = cb.EarlyStopping(monitor='val_loss', patience=3, restore_best_weights=True)\n",
    "\n",
    "history = model.fit(\n",
    "    train_data,\n",
    "    epochs=15,\n",
    "    validation_data=test_data,\n",
    "    callbacks=[callbacky]\n",
    ")"
   ]
  },
  {
   "cell_type": "code",
   "execution_count": 7,
   "id": "50bf4615",
   "metadata": {},
   "outputs": [
    {
     "data": {
      "image/png": "[encoded data removed]",
      "text/plain": [
       "<Figure size 1200x600 with 2 Axes>"
      ]
     },
     "metadata": {},
     "output_type": "display_data"
    }
   ],
   "source": [
    "import matplotlib.pyplot as plt\n",
    "\n",
    "acc = history.history['accuracy']\n",
    "val_acc = history.history['val_accuracy']\n",
    "loss = history.history['loss']\n",
    "val_loss = history.history['val_loss']\n",
    "\n",
    "epochs_range = range(EPOCHS)\n",
    "\n",
    "plt.figure(figsize=(12, 6))\n",
    "plt.subplot(1, 2, 1)\n",
    "plt.plot(epochs_range, acc, label='Acurácia de Treino')\n",
    "plt.plot(epochs_range, val_acc, label='Acurácia de Validação')\n",
    "plt.legend(loc='lower right')\n",
    "plt.title('Acurácia de Treino e Validação')\n",
    "\n",
    "plt.subplot(1, 2, 2)\n",
    "plt.plot(epochs_range, loss, label='Perda de Treino')\n",
    "plt.plot(epochs_range, val_loss, label='Perda de Validação')\n",
    "plt.legend(loc='upper right')\n",
    "plt.title('Perda de Treino e Validação')\n",
    "plt.show()"
   ]
  },
  {
   "cell_type": "code",
   "execution_count": 10,
   "id": "12710d2f",
   "metadata": {},
   "outputs": [
    {
     "name": "stdout",
     "output_type": "stream",
     "text": [
      "\u001b[1m313/313\u001b[0m \u001b[32m━━━━━━━━━━━━━━━━━━━━\u001b[0m\u001b[37m\u001b[0m \u001b[1m18s\u001b[0m 57ms/step - accuracy: 0.8468 - loss: 0.3587\n"
     ]
    },
    {
     "data": {
      "text/plain": [
       "[0.35874831676483154, 0.8468000292778015]"
      ]
     },
     "execution_count": 10,
     "metadata": {},
     "output_type": "execute_result"
    }
   ],
   "source": [
    "model.evaluate(test_data)"
   ]
  },
  {
   "cell_type": "code",
   "execution_count": null,
   "id": "cfef6777",
   "metadata": {},
   "outputs": [
    {
     "name": "stdout",
     "output_type": "stream",
     "text": [
      "Fazendo previsões em todo o conjunto de validação...\n",
      "\u001b[1m313/313\u001b[0m \u001b[32m━━━━━━━━━━━━━━━━━━━━\u001b[0m\u001b[37m\u001b[0m \u001b[1m24s\u001b[0m 73ms/step\n"
     ]
    },
    {
     "ename": "KeyboardInterrupt",
     "evalue": "",
     "output_type": "error",
     "traceback": [
      "\u001b[31m---------------------------------------------------------------------------\u001b[39m",
      "\u001b[31mKeyboardInterrupt\u001b[39m                         Traceback (most recent call last)",
      "\u001b[36mCell\u001b[39m\u001b[36m \u001b[39m\u001b[32mIn[9]\u001b[39m\u001b[32m, line 16\u001b[39m\n\u001b[32m     12\u001b[39m predictions = model.predict(test_data)\n\u001b[32m     14\u001b[39m \u001b[38;5;66;03m# Extrai os rótulos verdadeiros do dataset\u001b[39;00m\n\u001b[32m     15\u001b[39m \u001b[38;5;66;03m# Itera pelo dataset, pega os rótulos (y) de cada lote e os concatena\u001b[39;00m\n\u001b[32m---> \u001b[39m\u001b[32m16\u001b[39m true_labels = np.concatenate(\u001b[43m[\u001b[49m\u001b[43my\u001b[49m\u001b[43m \u001b[49m\u001b[38;5;28;43;01mfor\u001b[39;49;00m\u001b[43m \u001b[49m\u001b[43mx\u001b[49m\u001b[43m,\u001b[49m\u001b[43m \u001b[49m\u001b[43my\u001b[49m\u001b[43m \u001b[49m\u001b[38;5;129;43;01min\u001b[39;49;00m\u001b[43m \u001b[49m\u001b[43mtest_data\u001b[49m\u001b[43m]\u001b[49m, axis=\u001b[32m0\u001b[39m)\n\u001b[32m     18\u001b[39m \u001b[38;5;66;03m# Converte as previsões (probabilidades) em rótulos de classe (0 ou 1)\u001b[39;00m\n\u001b[32m     19\u001b[39m \u001b[38;5;66;03m# Se a previsão > 0.5, a classe é 1 (Dog), senão é 0 (Cat)\u001b[39;00m\n\u001b[32m     20\u001b[39m predicted_labels = (predictions > \u001b[32m0.5\u001b[39m).astype(\u001b[38;5;28mint\u001b[39m)\n",
      "\u001b[36mFile \u001b[39m\u001b[32mc:\\Users\\lucas\\OneDrive - Amelyer Company\\Documentos\\Projetos Python\\Dogs vs Cats\\.venv\\Lib\\site-packages\\keras\\src\\legacy\\preprocessing\\image.py:115\u001b[39m, in \u001b[36mIterator.__next__\u001b[39m\u001b[34m(self)\u001b[39m\n\u001b[32m    112\u001b[39m     index_array = \u001b[38;5;28mnext\u001b[39m(\u001b[38;5;28mself\u001b[39m.index_generator)\n\u001b[32m    113\u001b[39m \u001b[38;5;66;03m# The transformation of images is not under thread lock\u001b[39;00m\n\u001b[32m    114\u001b[39m \u001b[38;5;66;03m# so it can be done in parallel\u001b[39;00m\n\u001b[32m--> \u001b[39m\u001b[32m115\u001b[39m \u001b[38;5;28;01mreturn\u001b[39;00m \u001b[38;5;28;43mself\u001b[39;49m\u001b[43m.\u001b[49m\u001b[43m_get_batches_of_transformed_samples\u001b[49m\u001b[43m(\u001b[49m\u001b[43mindex_array\u001b[49m\u001b[43m)\u001b[49m\n",
      "\u001b[36mFile \u001b[39m\u001b[32mc:\\Users\\lucas\\OneDrive - Amelyer Company\\Documentos\\Projetos Python\\Dogs vs Cats\\.venv\\Lib\\site-packages\\keras\\src\\legacy\\preprocessing\\image.py:323\u001b[39m, in \u001b[36mBatchFromFilesMixin._get_batches_of_transformed_samples\u001b[39m\u001b[34m(self, index_array)\u001b[39m\n\u001b[32m    315\u001b[39m \u001b[38;5;28;01mfor\u001b[39;00m i, j \u001b[38;5;129;01min\u001b[39;00m \u001b[38;5;28menumerate\u001b[39m(index_array):\n\u001b[32m    316\u001b[39m     img = image_utils.load_img(\n\u001b[32m    317\u001b[39m         filepaths[j],\n\u001b[32m    318\u001b[39m         color_mode=\u001b[38;5;28mself\u001b[39m.color_mode,\n\u001b[32m   (...)\u001b[39m\u001b[32m    321\u001b[39m         keep_aspect_ratio=\u001b[38;5;28mself\u001b[39m.keep_aspect_ratio,\n\u001b[32m    322\u001b[39m     )\n\u001b[32m--> \u001b[39m\u001b[32m323\u001b[39m     x = \u001b[43mimage_utils\u001b[49m\u001b[43m.\u001b[49m\u001b[43mimg_to_array\u001b[49m\u001b[43m(\u001b[49m\u001b[43mimg\u001b[49m\u001b[43m,\u001b[49m\u001b[43m \u001b[49m\u001b[43mdata_format\u001b[49m\u001b[43m=\u001b[49m\u001b[38;5;28;43mself\u001b[39;49m\u001b[43m.\u001b[49m\u001b[43mdata_format\u001b[49m\u001b[43m)\u001b[49m\n\u001b[32m    324\u001b[39m     \u001b[38;5;66;03m# Pillow images should be closed after `load_img`,\u001b[39;00m\n\u001b[32m    325\u001b[39m     \u001b[38;5;66;03m# but not PIL images.\u001b[39;00m\n\u001b[32m    326\u001b[39m     \u001b[38;5;28;01mif\u001b[39;00m \u001b[38;5;28mhasattr\u001b[39m(img, \u001b[33m\"\u001b[39m\u001b[33mclose\u001b[39m\u001b[33m\"\u001b[39m):\n",
      "\u001b[36mFile \u001b[39m\u001b[32mc:\\Users\\lucas\\OneDrive - Amelyer Company\\Documentos\\Projetos Python\\Dogs vs Cats\\.venv\\Lib\\site-packages\\keras\\src\\utils\\image_utils.py:148\u001b[39m, in \u001b[36mimg_to_array\u001b[39m\u001b[34m(img, data_format, dtype)\u001b[39m\n\u001b[32m    144\u001b[39m     dtype = backend.floatx()\n\u001b[32m    145\u001b[39m \u001b[38;5;66;03m# NumPy array x has format (height, width, channel)\u001b[39;00m\n\u001b[32m    146\u001b[39m \u001b[38;5;66;03m# or (channel, height, width)\u001b[39;00m\n\u001b[32m    147\u001b[39m \u001b[38;5;66;03m# but original PIL image has format (width, height, channel)\u001b[39;00m\n\u001b[32m--> \u001b[39m\u001b[32m148\u001b[39m x = \u001b[43mnp\u001b[49m\u001b[43m.\u001b[49m\u001b[43masarray\u001b[49m\u001b[43m(\u001b[49m\u001b[43mimg\u001b[49m\u001b[43m,\u001b[49m\u001b[43m \u001b[49m\u001b[43mdtype\u001b[49m\u001b[43m=\u001b[49m\u001b[43mdtype\u001b[49m\u001b[43m)\u001b[49m\n\u001b[32m    149\u001b[39m \u001b[38;5;28;01mif\u001b[39;00m \u001b[38;5;28mlen\u001b[39m(x.shape) == \u001b[32m3\u001b[39m:\n\u001b[32m    150\u001b[39m     \u001b[38;5;28;01mif\u001b[39;00m data_format == \u001b[33m\"\u001b[39m\u001b[33mchannels_first\u001b[39m\u001b[33m\"\u001b[39m:\n",
      "\u001b[31mKeyboardInterrupt\u001b[39m: "
     ]
    }
   ],
   "source": [
    "import tensorflow as tf\n",
    "import numpy as np\n",
    "import matplotlib.pyplot as plt\n",
    "from sklearn.metrics import classification_report, confusion_matrix\n",
    "\n",
    "# Nomes das classes na ordem correta (geralmente alfabética)\n",
    "CLASS_NAMES = ['Cat', 'Dog'] # Ou ['caes', 'gatos']\n",
    "\n",
    "# --- 2. FAZER PREVISÕES E EXTRAIR RÓTULOS VERDADEIROS ---\n",
    "print(\"Fazendo previsões em todo o conjunto de validação...\")\n",
    "# model.predict itera por todos os lotes do dataset e retorna um único array\n",
    "predictions = model.predict(test_data)\n",
    "\n",
    "# Extrai os rótulos verdadeiros do dataset\n",
    "# Itera pelo dataset, pega os rótulos (y) de cada lote e os concatena\n",
    "true_labels = np.concatenate([y for x, y in test_data], axis=0)\n",
    "\n",
    "# Converte as previsões (probabilidades) em rótulos de classe (0 ou 1)\n",
    "# Se a previsão > 0.5, a classe é 1 (Dog), senão é 0 (Cat)\n",
    "predicted_labels = (predictions > 0.5).astype(int)\n",
    "\n",
    "# --- 3. AVALIAÇÃO QUANTITATIVA ---\n",
    "print(\"\\n--- Relatório de Classificação ---\")\n",
    "# Mostra precisão, recall, f1-score para cada classe\n",
    "print(classification_report(true_labels, predicted_labels, target_names=CLASS_NAMES))\n",
    "\n",
    "print(\"\\n--- Matriz de Confusão ---\")\n",
    "# Mostra quantos foram classificados corretamente e incorretamente\n",
    "cm = confusion_matrix(true_labels, predicted_labels)\n",
    "print(cm)\n",
    "print(\"\\n     Previsto: Cat  | Previsto: Dog\")\n",
    "print(f\"Real: Cat |   {cm[0][0]:<5}    |   {cm[0][1]:<5}\")\n",
    "print(f\"Real: Dog |   {cm[1][0]:<5}    |   {cm[1][1]:<5}\")\n",
    "print(\"--------------------------------\")\n",
    "\n",
    "\n",
    "# --- 4. VISUALIZAÇÃO DE EXEMPLOS ---\n",
    "print(\"\\nExibindo alguns exemplos de previsões...\")\n",
    "\n",
    "# Pega o primeiro lote de imagens e rótulos para visualização\n",
    "for images, labels in test_data.take(1):\n",
    "    plt.figure(figsize=(10, 10))\n",
    "    for i in range(20): # Exibe as 9 primeiras imagens do lote\n",
    "        ax = plt.subplot(5, 4, i + 1)\n",
    "        \n",
    "        # Exibe a imagem\n",
    "        plt.imshow(images[i].numpy().astype(\"uint8\"))\n",
    "        \n",
    "        # Pega o rótulo verdadeiro e o previsto para esta imagem\n",
    "        true_label_index = int(labels[i].numpy())\n",
    "        predicted_label_index = predicted_labels[i][0] # O índice corresponde à ordem\n",
    "        \n",
    "        true_class_name = CLASS_NAMES[true_label_index]\n",
    "        predicted_class_name = CLASS_NAMES[predicted_label_index]\n",
    "        \n",
    "        # Define o título e a cor (verde se acertou, vermelho se errou)\n",
    "        title = f\"Real: {true_class_name}\\nPrevisto: {predicted_class_name}\"\n",
    "        color = \"green\" if true_label_index == predicted_label_index else \"red\"\n",
    "        \n",
    "        plt.title(title, color=color)\n",
    "        plt.axis(\"off\")\n",
    "    plt.tight_layout()\n",
    "    plt.show()"
   ]
  },
  {
   "cell_type": "code",
   "execution_count": 11,
   "id": "06284823",
   "metadata": {},
   "outputs": [],
   "source": [
    "model.save(r'C:\\Users\\lucas\\OneDrive - Amelyer Company\\Documentos\\Projetos Python\\Dogs vs Cats\\models\\model_cnn.keras')"
   ]
  }
 ],
 "metadata": {
  "kernelspec": {
   "display_name": ".venv",
   "language": "python",
   "name": "python3"
  },
  "language_info": {
   "codemirror_mode": {
    "name": "ipython",
    "version": 3
   },
   "file_extension": ".py",
   "mimetype": "text/x-python",
   "name": "python",
   "nbconvert_exporter": "python",
   "pygments_lexer": "ipython3",
   "version": "3.12.10"
  }
 },
 "nbformat": 4,
 "nbformat_minor": 5
}
